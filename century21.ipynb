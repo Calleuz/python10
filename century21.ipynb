{
 "cells": [
  {
   "cell_type": "code",
   "execution_count": 1,
   "metadata": {},
   "outputs": [],
   "source": [
    "import requests\n",
    "from bs4 import BeautifulSoup"
   ]
  },
  {
   "cell_type": "code",
   "execution_count": 7,
   "metadata": {},
   "outputs": [],
   "source": [
    "r = requests.get(\"http://www.pyclass.com/real-estate/rock-springs-wy/LCWYROCKSPRINGS/\", headers={'User-agent': 'Mozilla/5.0 (X11; Ubuntu; Linux x86_64; rv:61.0) Gecko/20100101 Firefox/61.0'})\n",
    "c = r.content\n",
    "soup = BeautifulSoup(c, \"html.parser\")\n"
   ]
  },
  {
   "cell_type": "code",
   "execution_count": 16,
   "metadata": {},
   "outputs": [],
   "source": [
    "#All properties\n",
    "res = soup.find_all(\"div\",{\"class\":\"propertyRow\"})"
   ]
  },
  {
   "cell_type": "code",
   "execution_count": 25,
   "metadata": {},
   "outputs": [
    {
     "data": {
      "text/plain": [
       "'$725,000'"
      ]
     },
     "execution_count": 25,
     "metadata": {},
     "output_type": "execute_result"
    }
   ],
   "source": [
    "#First property, getting price\n",
    "res1 = res[0].find_all(\"h4\", {\"class\":\"propPrice\"})[0]\n",
    "#Vi formatterar den med string methods, replace för att ta bort allting onödigt\n",
    "res1.text.replace(\"\\n\", \"\").replace(\" \",\"\")"
   ]
  },
  {
   "cell_type": "code",
   "execution_count": 33,
   "metadata": {},
   "outputs": [
    {
     "data": {
      "text/plain": [
       "['$725,000',\n",
       " '$452,900',\n",
       " '$396,900',\n",
       " '$389,900',\n",
       " '$254,000',\n",
       " '$252,900',\n",
       " '$210,000',\n",
       " '$209,000',\n",
       " '$199,900',\n",
       " '$196,900']"
      ]
     },
     "execution_count": 33,
     "metadata": {},
     "output_type": "execute_result"
    }
   ],
   "source": [
    "list1 =[]\n",
    "i = 0\n",
    "for el in res:\n",
    "    newres = res[i].find_all('h4',{'class':'propPrice'})[0].text.replace('\\n','').replace(' ','')\n",
    "    list1.append(newres)\n",
    "    i+=1\n",
    "list1"
   ]
  },
  {
   "cell_type": "code",
   "execution_count": 85,
   "metadata": {},
   "outputs": [
    {
     "data": {
      "text/plain": [
       "['$725,000 / 0 Gateway / Rock Springs, WY 82901 / No beds / No sqft / No baths / No lot',\n",
       " '$452,900 / 1003 Winchester Blvd. / Rock Springs, WY 82901 / 4 / No sqft / No baths / 0.21 Acres',\n",
       " '$396,900 / 600 Talladega / Rock Springs, WY 82901 / 5 / 3,154 / 3 / No lot',\n",
       " '$389,900 / 3239 Spearhead Way / Rock Springs, WY 82901 / 4 / 3,076 / 3 / Under 1/2 Acre, ',\n",
       " '$254,000 / 522 Emerald Street / Rock Springs, WY 82901 / 3 / 1,172 / 3 / Under 1/2 Acre, ',\n",
       " \"$252,900 / 1302 Veteran's Drive / Rock Springs, WY 82901 / 4 / 1,932 / 2 / 0.27 Acres\",\n",
       " '$210,000 / 1021 Cypress Cir / Rock Springs, WY 82901 / 4 / 1,676 / 3 / Under 1/2 Acre, ',\n",
       " '$209,000 / 913 Madison Dr / Rock Springs, WY 82901 / 3 / 1,344 / 2 / Under 1/2 Acre, ',\n",
       " '$199,900 / 1344 Teton Street / Rock Springs, WY 82901 / 3 / 1,920 / 2 / Under 1/2 Acre, ',\n",
       " '$196,900 / 4 Minnies Lane / Rock Springs, WY 82901 / 3 / 1,664 / 2 / 2.02 Acres']"
      ]
     },
     "execution_count": 85,
     "metadata": {},
     "output_type": "execute_result"
    }
   ],
   "source": [
    "\n",
    "list1 =[]\n",
    "for el in res:\n",
    "    beds = \"No beds\"\n",
    "    sqft = \"No sqft\"\n",
    "    baths = \"No baths\"\n",
    "    lot_size = \"No lot\"\n",
    "    newres = el.find('h4',{'class':'propPrice'}).text.replace('\\n','').replace(' ','')\n",
    "    address1 = el.find_all('span',{'class':'propAddressCollapse'})[0].text\n",
    "    address2 = el.find_all('span',{'class':'propAddressCollapse'})[1].text\n",
    "    try:\n",
    "        beds = el.find('span',{'class':'infoBed'}).find('b').text\n",
    "        sqft = el.find('span',{'class':'infoSqFt'}).find('b').text\n",
    "        baths = el.find('span',{'class':'infoValueFullBath'}).find('b').text\n",
    "\n",
    "    except: \n",
    "        pass\n",
    "    \n",
    "    for col_group in el.find_all('div', {'class','columnGroup'}):\n",
    "        for FG, FN in zip(col_group.find_all('span',{'class':'featureGroup'}), col_group.find_all('span', {'class':'featureName'})):\n",
    "            if \"Lot Size\" in FG.text:\n",
    "                lot_size = FN.text\n",
    "    list1.append(f\"{newres} / {address1} / {address2} / {beds} / {sqft} / {baths} / {lot_size}\")\n",
    "    \n",
    "list1\n",
    "\n"
   ]
  },
  {
   "cell_type": "code",
   "execution_count": 92,
   "metadata": {},
   "outputs": [
    {
     "data": {
      "text/plain": [
       "[{'Price': '$725,000',\n",
       "  'Address1': '0 Gateway',\n",
       "  'Address2': 'Rock Springs, WY 82901',\n",
       "  'beds': 'No beds',\n",
       "  'sqft': 'No sqft',\n",
       "  'baths': 'No baths',\n",
       "  'lot_size': 'No lot'},\n",
       " {'Price': '$452,900',\n",
       "  'Address1': '1003 Winchester Blvd.',\n",
       "  'Address2': 'Rock Springs, WY 82901',\n",
       "  'beds': '4',\n",
       "  'sqft': 'No sqft',\n",
       "  'baths': 'No baths',\n",
       "  'lot_size': '0.21 Acres'},\n",
       " {'Price': '$396,900',\n",
       "  'Address1': '600 Talladega',\n",
       "  'Address2': 'Rock Springs, WY 82901',\n",
       "  'beds': '5',\n",
       "  'sqft': '3,154',\n",
       "  'baths': '3',\n",
       "  'lot_size': 'No lot'},\n",
       " {'Price': '$389,900',\n",
       "  'Address1': '3239 Spearhead Way',\n",
       "  'Address2': 'Rock Springs, WY 82901',\n",
       "  'beds': '4',\n",
       "  'sqft': '3,076',\n",
       "  'baths': '3',\n",
       "  'lot_size': 'Under 1/2 Acre, '},\n",
       " {'Price': '$254,000',\n",
       "  'Address1': '522 Emerald Street',\n",
       "  'Address2': 'Rock Springs, WY 82901',\n",
       "  'beds': '3',\n",
       "  'sqft': '1,172',\n",
       "  'baths': '3',\n",
       "  'lot_size': 'Under 1/2 Acre, '},\n",
       " {'Price': '$252,900',\n",
       "  'Address1': \"1302 Veteran's Drive\",\n",
       "  'Address2': 'Rock Springs, WY 82901',\n",
       "  'beds': '4',\n",
       "  'sqft': '1,932',\n",
       "  'baths': '2',\n",
       "  'lot_size': '0.27 Acres'},\n",
       " {'Price': '$210,000',\n",
       "  'Address1': '1021 Cypress Cir',\n",
       "  'Address2': 'Rock Springs, WY 82901',\n",
       "  'beds': '4',\n",
       "  'sqft': '1,676',\n",
       "  'baths': '3',\n",
       "  'lot_size': 'Under 1/2 Acre, '},\n",
       " {'Price': '$209,000',\n",
       "  'Address1': '913 Madison Dr',\n",
       "  'Address2': 'Rock Springs, WY 82901',\n",
       "  'beds': '3',\n",
       "  'sqft': '1,344',\n",
       "  'baths': '2',\n",
       "  'lot_size': 'Under 1/2 Acre, '},\n",
       " {'Price': '$199,900',\n",
       "  'Address1': '1344 Teton Street',\n",
       "  'Address2': 'Rock Springs, WY 82901',\n",
       "  'beds': '3',\n",
       "  'sqft': '1,920',\n",
       "  'baths': '2',\n",
       "  'lot_size': 'Under 1/2 Acre, '},\n",
       " {'Price': '$196,900',\n",
       "  'Address1': '4 Minnies Lane',\n",
       "  'Address2': 'Rock Springs, WY 82901',\n",
       "  'beds': '3',\n",
       "  'sqft': '1,664',\n",
       "  'baths': '2',\n",
       "  'lot_size': '2.02 Acres'}]"
      ]
     },
     "execution_count": 92,
     "metadata": {},
     "output_type": "execute_result"
    }
   ],
   "source": [
    "list1 = []\n",
    "for el in res:\n",
    "    d = {}\n",
    "    d['Price'] = el.find('h4',{'class':'propPrice'}).text.replace('\\n','').replace(' ','')\n",
    "    d['Address1'] = el.find_all('span',{'class':'propAddressCollapse'})[0].text\n",
    "    d['Address2'] =el.find_all('span',{'class':'propAddressCollapse'})[1].text\n",
    "    d['beds'] = \"No beds\"\n",
    "    d['sqft'] = \"No sqft\"\n",
    "    d['baths'] = \"No baths\"\n",
    "    d['lot_size'] = \"No lot\"\n",
    "    try:\n",
    "        d['beds'] = el.find('span',{'class':'infoBed'}).find('b').text\n",
    "        d['sqft'] = el.find('span',{'class':'infoSqFt'}).find('b').text\n",
    "        d['baths'] = el.find('span',{'class':'infoValueFullBath'}).find('b').text\n",
    "\n",
    "    except: \n",
    "        pass\n",
    "    \n",
    "    for col_group in el.find_all('div', {'class','columnGroup'}):\n",
    "        for FG, FN in zip(col_group.find_all('span',{'class':'featureGroup'}), col_group.find_all('span', {'class':'featureName'})):\n",
    "            if \"Lot Size\" in FG.text:\n",
    "                d['lot_size'] = FN.text\n",
    "    list1.append(d)\n",
    "    \n",
    "list1"
   ]
  },
  {
   "cell_type": "code",
   "execution_count": 95,
   "metadata": {},
   "outputs": [],
   "source": [
    "import pandas\n",
    "\n",
    "df = pandas.DataFrame(list1)\n",
    "df.to_csv(\"Real_Estate.csv\")"
   ]
  }
 ],
 "metadata": {
  "kernelspec": {
   "display_name": "Python 3",
   "language": "python",
   "name": "python3"
  },
  "language_info": {
   "codemirror_mode": {
    "name": "ipython",
    "version": 3
   },
   "file_extension": ".py",
   "mimetype": "text/x-python",
   "name": "python",
   "nbconvert_exporter": "python",
   "pygments_lexer": "ipython3",
   "version": "3.9.1"
  }
 },
 "nbformat": 4,
 "nbformat_minor": 4
}
