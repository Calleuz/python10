{
 "cells": [
  {
   "cell_type": "code",
   "execution_count": 14,
   "metadata": {},
   "outputs": [],
   "source": [
    "from bokeh.plotting import figure\n",
    "from bokeh.io import output_file, show\n",
    "import pandas\n",
    "\n",
    "df = pandas.read_excel(\"weatherdata.xlsx\", sheet_name = 0, engine = \"openpyxl\")\n",
    "\n",
    "temperature = df['Temperature']/10\n",
    "pressure = df['Pressure']/10\n",
    "\n",
    "output_file(\"viz.html\")\n",
    "\n",
    "fig = figure()\n",
    "fig.circle(temperature, pressure, size = 0.3)\n",
    "fig.title.text =\"Weather vizualisation\"\n",
    "fig.xaxis.axis_label=\"Temperature (C')\"\n",
    "fig.yaxis.axis_label=\"Pressure (hPa)\"\n",
    "\n",
    "show(fig)\n"
   ]
  }
 ],
 "metadata": {
  "kernelspec": {
   "display_name": "Python 3",
   "language": "python",
   "name": "python3"
  },
  "language_info": {
   "codemirror_mode": {
    "name": "ipython",
    "version": 3
   },
   "file_extension": ".py",
   "mimetype": "text/x-python",
   "name": "python",
   "nbconvert_exporter": "python",
   "pygments_lexer": "ipython3",
   "version": "3.9.1"
  }
 },
 "nbformat": 4,
 "nbformat_minor": 4
}
