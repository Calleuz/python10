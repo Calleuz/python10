{
 "cells": [
  {
   "cell_type": "code",
   "execution_count": 12,
   "metadata": {},
   "outputs": [],
   "source": [
    "#Necessary imports\n",
    "from bokeh.plotting import figure\n",
    "from bokeh.io import output_file, show\n",
    "\n",
    "#Create random data\n",
    "#x = [3,51,82,36,90,75,4,59,1,34,12,17,43,76,26,48,53,77,38,79,27,81,20,89,62,37,22,25,24,55,49,84,41,31,44,64,19,78,83,61,35,40,87,2,7]\n",
    "#y = [5,90,71,32,11,29,22,16,43,37,62,63,23,66,88,12,49,67,61,26,47,2,21,77,72,28,40,38,51,30,57,19,70,17,56,41,27,6,86,76,84,89,85,81,15]\n",
    "x = [1,2,3,4,5]\n",
    "y = [6,7,8,9,10]\n",
    "\n",
    "#Create output file\n",
    "output_file(\"output_from_csv.html\")\n",
    "\n",
    "#Create figure\n",
    "f = figure()\n",
    "\n",
    "#Create line\n",
    "f.line(x,y)\n",
    "\n",
    "show(f)\n",
    "\n",
    "\n"
   ]
  },
  {
   "cell_type": "code",
   "execution_count": 1,
   "metadata": {},
   "outputs": [],
   "source": [
    "#Import bokeh and pandas\n",
    "from bokeh.plotting import figure\n",
    "from bokeh.io import output_file, show\n",
    "import pandas\n",
    "\n",
    "#Create random data\n",
    "#x = [3,51,82,36,90,75,4,59,1,34,12,17,43,76,26,48,53,77,38,79,27,81,20,89,62,37,22,25,24,55,49,84,41,31,44,64,19,78,83,61,35,40,87,2,7]\n",
    "#y = [5,90,71,32,11,29,22,16,43,37,62,63,23,66,88,12,49,67,61,26,47,2,21,77,72,28,40,38,51,30,57,19,70,17,56,41,27,6,86,76,84,89,85,81,15]\n",
    "df = pandas.read_csv(\"data.csv\")\n",
    "x = df['y']\n",
    "y = df['y']\n",
    "\n",
    "#Create output file\n",
    "output_file(\"output.html\")\n",
    "\n",
    "#Create figure\n",
    "f = figure()\n",
    "\n",
    "#Create line\n",
    "f.triangle(x,y)\n",
    "\n",
    "show(f)\n",
    "\n",
    "\n"
   ]
  }
 ],
 "metadata": {
  "kernelspec": {
   "display_name": "Python 3",
   "language": "python",
   "name": "python3"
  },
  "language_info": {
   "codemirror_mode": {
    "name": "ipython",
    "version": 3
   },
   "file_extension": ".py",
   "mimetype": "text/x-python",
   "name": "python",
   "nbconvert_exporter": "python",
   "pygments_lexer": "ipython3",
   "version": "3.9.1"
  }
 },
 "nbformat": 4,
 "nbformat_minor": 4
}
