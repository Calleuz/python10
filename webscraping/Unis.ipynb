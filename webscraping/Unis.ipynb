{
 "cells": [
  {
   "cell_type": "code",
   "execution_count": 22,
   "metadata": {},
   "outputs": [],
   "source": [
    "#Webscraping all thw world's universities in one list\n",
    "import requests\n",
    "import pandas\n",
    "from bs4 import BeautifulSoup\n",
    "\n",
    "unilistA = []\n",
    "for i in range(28):\n",
    "    r = requests.get(f\"https://www.4icu.org/reviews/index{i}.htm\")\n",
    "    c = r.content\n",
    "    soup = BeautifulSoup(c, \"html.parser\")\n",
    "    result1 = soup.find_all(\"table\",{'class':\"table table-hover text-left\"})\n",
    "    for el in result1:\n",
    "        d = {}\n",
    "        item = el.find_all('td')\n",
    "        for new_el in item:\n",
    "            try:\n",
    "                unilistA.append(new_el.find('a').text)\n",
    "            except: \n",
    "                pass\n",
    "d = {}\n",
    "d['Name'] = unilistA\n",
    "df = pandas.DataFrame(d)\n",
    "df.to_csv(\"UniversityList.csv\")\n",
    "    "
   ]
  },
  {
   "cell_type": "code",
   "execution_count": null,
   "metadata": {},
   "outputs": [],
   "source": []
  }
 ],
 "metadata": {
  "kernelspec": {
   "display_name": "Python 3",
   "language": "python",
   "name": "python3"
  },
  "language_info": {
   "codemirror_mode": {
    "name": "ipython",
    "version": 3
   },
   "file_extension": ".py",
   "mimetype": "text/x-python",
   "name": "python",
   "nbconvert_exporter": "python",
   "pygments_lexer": "ipython3",
   "version": "3.9.1"
  }
 },
 "nbformat": 4,
 "nbformat_minor": 4
}
